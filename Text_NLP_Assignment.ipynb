{
  "nbformat": 4,
  "nbformat_minor": 0,
  "metadata": {
    "colab": {
      "provenance": []
    },
    "kernelspec": {
      "name": "python3",
      "display_name": "Python 3"
    },
    "language_info": {
      "name": "python"
    }
  },
  "cells": [
    {
      "cell_type": "markdown",
      "source": [
        "Importing Necessary Libraries"
      ],
      "metadata": {
        "id": "n7imNkzOtFNl"
      }
    },
    {
      "cell_type": "code",
      "source": [
        "!pip install openpyxl"
      ],
      "metadata": {
        "colab": {
          "base_uri": "https://localhost:8080/"
        },
        "id": "94bfoEPDtKVG",
        "outputId": "1c03fd23-b148-4510-9137-13846b027b97"
      },
      "execution_count": 1,
      "outputs": [
        {
          "output_type": "stream",
          "name": "stdout",
          "text": [
            "Looking in indexes: https://pypi.org/simple, https://us-python.pkg.dev/colab-wheels/public/simple/\n",
            "Requirement already satisfied: openpyxl in /usr/local/lib/python3.7/dist-packages (3.0.10)\n",
            "Requirement already satisfied: et-xmlfile in /usr/local/lib/python3.7/dist-packages (from openpyxl) (1.1.0)\n"
          ]
        }
      ]
    },
    {
      "cell_type": "code",
      "source": [
        "!pip install transformers"
      ],
      "metadata": {
        "colab": {
          "base_uri": "https://localhost:8080/"
        },
        "id": "3qqMlbA6uiiA",
        "outputId": "31d03ccf-2d60-4bcd-bd05-7f94cf236235"
      },
      "execution_count": 2,
      "outputs": [
        {
          "output_type": "stream",
          "name": "stdout",
          "text": [
            "Looking in indexes: https://pypi.org/simple, https://us-python.pkg.dev/colab-wheels/public/simple/\n",
            "Requirement already satisfied: transformers in /usr/local/lib/python3.7/dist-packages (4.24.0)\n",
            "Requirement already satisfied: packaging>=20.0 in /usr/local/lib/python3.7/dist-packages (from transformers) (21.3)\n",
            "Requirement already satisfied: filelock in /usr/local/lib/python3.7/dist-packages (from transformers) (3.8.0)\n",
            "Requirement already satisfied: pyyaml>=5.1 in /usr/local/lib/python3.7/dist-packages (from transformers) (6.0)\n",
            "Requirement already satisfied: regex!=2019.12.17 in /usr/local/lib/python3.7/dist-packages (from transformers) (2022.6.2)\n",
            "Requirement already satisfied: tqdm>=4.27 in /usr/local/lib/python3.7/dist-packages (from transformers) (4.64.1)\n",
            "Requirement already satisfied: requests in /usr/local/lib/python3.7/dist-packages (from transformers) (2.28.1)\n",
            "Requirement already satisfied: huggingface-hub<1.0,>=0.10.0 in /usr/local/lib/python3.7/dist-packages (from transformers) (0.10.1)\n",
            "Requirement already satisfied: numpy>=1.17 in /usr/local/lib/python3.7/dist-packages (from transformers) (1.21.6)\n",
            "Requirement already satisfied: tokenizers!=0.11.3,<0.14,>=0.11.1 in /usr/local/lib/python3.7/dist-packages (from transformers) (0.13.2)\n",
            "Requirement already satisfied: importlib-metadata in /usr/local/lib/python3.7/dist-packages (from transformers) (4.13.0)\n",
            "Requirement already satisfied: typing-extensions>=3.7.4.3 in /usr/local/lib/python3.7/dist-packages (from huggingface-hub<1.0,>=0.10.0->transformers) (4.1.1)\n",
            "Requirement already satisfied: pyparsing!=3.0.5,>=2.0.2 in /usr/local/lib/python3.7/dist-packages (from packaging>=20.0->transformers) (3.0.9)\n",
            "Requirement already satisfied: zipp>=0.5 in /usr/local/lib/python3.7/dist-packages (from importlib-metadata->transformers) (3.10.0)\n",
            "Requirement already satisfied: urllib3<1.27,>=1.21.1 in /usr/local/lib/python3.7/dist-packages (from requests->transformers) (1.24.3)\n",
            "Requirement already satisfied: charset-normalizer<3,>=2 in /usr/local/lib/python3.7/dist-packages (from requests->transformers) (2.1.1)\n",
            "Requirement already satisfied: certifi>=2017.4.17 in /usr/local/lib/python3.7/dist-packages (from requests->transformers) (2022.9.24)\n",
            "Requirement already satisfied: idna<4,>=2.5 in /usr/local/lib/python3.7/dist-packages (from requests->transformers) (2.10)\n"
          ]
        }
      ]
    },
    {
      "cell_type": "code",
      "source": [
        "!pip install vaderSentiment"
      ],
      "metadata": {
        "colab": {
          "base_uri": "https://localhost:8080/"
        },
        "id": "B07ijbOsutvG",
        "outputId": "199cbcab-3cec-4d77-fc39-071fa83fab46"
      },
      "execution_count": 3,
      "outputs": [
        {
          "output_type": "stream",
          "name": "stdout",
          "text": [
            "Looking in indexes: https://pypi.org/simple, https://us-python.pkg.dev/colab-wheels/public/simple/\n",
            "Requirement already satisfied: vaderSentiment in /usr/local/lib/python3.7/dist-packages (3.3.2)\n",
            "Requirement already satisfied: requests in /usr/local/lib/python3.7/dist-packages (from vaderSentiment) (2.28.1)\n",
            "Requirement already satisfied: certifi>=2017.4.17 in /usr/local/lib/python3.7/dist-packages (from requests->vaderSentiment) (2022.9.24)\n",
            "Requirement already satisfied: charset-normalizer<3,>=2 in /usr/local/lib/python3.7/dist-packages (from requests->vaderSentiment) (2.1.1)\n",
            "Requirement already satisfied: urllib3<1.27,>=1.21.1 in /usr/local/lib/python3.7/dist-packages (from requests->vaderSentiment) (1.24.3)\n",
            "Requirement already satisfied: idna<4,>=2.5 in /usr/local/lib/python3.7/dist-packages (from requests->vaderSentiment) (2.10)\n"
          ]
        }
      ]
    },
    {
      "cell_type": "code",
      "source": [
        "!pip install textblob"
      ],
      "metadata": {
        "colab": {
          "base_uri": "https://localhost:8080/"
        },
        "id": "KddgeeqIu7Zu",
        "outputId": "8417c257-8c51-42a9-b257-70b5bc21c550"
      },
      "execution_count": 4,
      "outputs": [
        {
          "output_type": "stream",
          "name": "stdout",
          "text": [
            "Looking in indexes: https://pypi.org/simple, https://us-python.pkg.dev/colab-wheels/public/simple/\n",
            "Requirement already satisfied: textblob in /usr/local/lib/python3.7/dist-packages (0.15.3)\n",
            "Requirement already satisfied: nltk>=3.1 in /usr/local/lib/python3.7/dist-packages (from textblob) (3.7)\n",
            "Requirement already satisfied: regex>=2021.8.3 in /usr/local/lib/python3.7/dist-packages (from nltk>=3.1->textblob) (2022.6.2)\n",
            "Requirement already satisfied: tqdm in /usr/local/lib/python3.7/dist-packages (from nltk>=3.1->textblob) (4.64.1)\n",
            "Requirement already satisfied: click in /usr/local/lib/python3.7/dist-packages (from nltk>=3.1->textblob) (7.1.2)\n",
            "Requirement already satisfied: joblib in /usr/local/lib/python3.7/dist-packages (from nltk>=3.1->textblob) (1.2.0)\n"
          ]
        }
      ]
    },
    {
      "cell_type": "code",
      "source": [
        "!pip install textatistic"
      ],
      "metadata": {
        "colab": {
          "base_uri": "https://localhost:8080/"
        },
        "id": "E04m8Ch1vKlh",
        "outputId": "04458b5c-5035-4092-87e7-5503df1f9a2a"
      },
      "execution_count": 5,
      "outputs": [
        {
          "output_type": "stream",
          "name": "stdout",
          "text": [
            "Looking in indexes: https://pypi.org/simple, https://us-python.pkg.dev/colab-wheels/public/simple/\n",
            "Requirement already satisfied: textatistic in /usr/local/lib/python3.7/dist-packages (0.0.1)\n",
            "Requirement already satisfied: pyhyphen>=2.0.5 in /usr/local/lib/python3.7/dist-packages (from textatistic) (4.0.3)\n",
            "Requirement already satisfied: setuptools>=52.0 in /usr/local/lib/python3.7/dist-packages (from pyhyphen>=2.0.5->textatistic) (57.4.0)\n",
            "Requirement already satisfied: requests>=2.25 in /usr/local/lib/python3.7/dist-packages (from pyhyphen>=2.0.5->textatistic) (2.28.1)\n",
            "Requirement already satisfied: wheel>=0.36.0 in /usr/local/lib/python3.7/dist-packages (from pyhyphen>=2.0.5->textatistic) (0.38.3)\n",
            "Requirement already satisfied: appdirs>=1.4.0 in /usr/local/lib/python3.7/dist-packages (from pyhyphen>=2.0.5->textatistic) (1.4.4)\n",
            "Requirement already satisfied: certifi>=2017.4.17 in /usr/local/lib/python3.7/dist-packages (from requests>=2.25->pyhyphen>=2.0.5->textatistic) (2022.9.24)\n",
            "Requirement already satisfied: idna<4,>=2.5 in /usr/local/lib/python3.7/dist-packages (from requests>=2.25->pyhyphen>=2.0.5->textatistic) (2.10)\n",
            "Requirement already satisfied: charset-normalizer<3,>=2 in /usr/local/lib/python3.7/dist-packages (from requests>=2.25->pyhyphen>=2.0.5->textatistic) (2.1.1)\n",
            "Requirement already satisfied: urllib3<1.27,>=1.21.1 in /usr/local/lib/python3.7/dist-packages (from requests>=2.25->pyhyphen>=2.0.5->textatistic) (1.24.3)\n"
          ]
        }
      ]
    },
    {
      "cell_type": "code",
      "execution_count": 6,
      "metadata": {
        "id": "jD545gr9s7Lb"
      },
      "outputs": [],
      "source": [
        "import csv\n",
        "import pandas as pd\n",
        "from bs4 import BeautifulSoup\n",
        "import requests\n",
        "import re\n",
        "import transformers"
      ]
    },
    {
      "cell_type": "code",
      "source": [
        "df = pd.read_excel('/content/Input.xlsx')"
      ],
      "metadata": {
        "id": "YdFPm3oxtO0W"
      },
      "execution_count": 7,
      "outputs": []
    },
    {
      "cell_type": "code",
      "source": [
        "df.head()"
      ],
      "metadata": {
        "colab": {
          "base_uri": "https://localhost:8080/",
          "height": 206
        },
        "id": "llosvYIBtQf-",
        "outputId": "9a4bc8eb-4b65-4194-f187-c528a8db9717"
      },
      "execution_count": 8,
      "outputs": [
        {
          "output_type": "execute_result",
          "data": {
            "text/plain": [
              "   URL_ID                                                URL\n",
              "0    37.0  https://insights.blackcoffer.com/ai-in-healthc...\n",
              "1    38.0  https://insights.blackcoffer.com/what-if-the-c...\n",
              "2    39.0  https://insights.blackcoffer.com/what-jobs-wil...\n",
              "3    40.0  https://insights.blackcoffer.com/will-machine-...\n",
              "4    41.0  https://insights.blackcoffer.com/will-ai-repla..."
            ],
            "text/html": [
              "\n",
              "  <div id=\"df-ff5e5f63-3d6c-4ca5-8eac-cefd7a19f132\">\n",
              "    <div class=\"colab-df-container\">\n",
              "      <div>\n",
              "<style scoped>\n",
              "    .dataframe tbody tr th:only-of-type {\n",
              "        vertical-align: middle;\n",
              "    }\n",
              "\n",
              "    .dataframe tbody tr th {\n",
              "        vertical-align: top;\n",
              "    }\n",
              "\n",
              "    .dataframe thead th {\n",
              "        text-align: right;\n",
              "    }\n",
              "</style>\n",
              "<table border=\"1\" class=\"dataframe\">\n",
              "  <thead>\n",
              "    <tr style=\"text-align: right;\">\n",
              "      <th></th>\n",
              "      <th>URL_ID</th>\n",
              "      <th>URL</th>\n",
              "    </tr>\n",
              "  </thead>\n",
              "  <tbody>\n",
              "    <tr>\n",
              "      <th>0</th>\n",
              "      <td>37.0</td>\n",
              "      <td>https://insights.blackcoffer.com/ai-in-healthc...</td>\n",
              "    </tr>\n",
              "    <tr>\n",
              "      <th>1</th>\n",
              "      <td>38.0</td>\n",
              "      <td>https://insights.blackcoffer.com/what-if-the-c...</td>\n",
              "    </tr>\n",
              "    <tr>\n",
              "      <th>2</th>\n",
              "      <td>39.0</td>\n",
              "      <td>https://insights.blackcoffer.com/what-jobs-wil...</td>\n",
              "    </tr>\n",
              "    <tr>\n",
              "      <th>3</th>\n",
              "      <td>40.0</td>\n",
              "      <td>https://insights.blackcoffer.com/will-machine-...</td>\n",
              "    </tr>\n",
              "    <tr>\n",
              "      <th>4</th>\n",
              "      <td>41.0</td>\n",
              "      <td>https://insights.blackcoffer.com/will-ai-repla...</td>\n",
              "    </tr>\n",
              "  </tbody>\n",
              "</table>\n",
              "</div>\n",
              "      <button class=\"colab-df-convert\" onclick=\"convertToInteractive('df-ff5e5f63-3d6c-4ca5-8eac-cefd7a19f132')\"\n",
              "              title=\"Convert this dataframe to an interactive table.\"\n",
              "              style=\"display:none;\">\n",
              "        \n",
              "  <svg xmlns=\"http://www.w3.org/2000/svg\" height=\"24px\"viewBox=\"0 0 24 24\"\n",
              "       width=\"24px\">\n",
              "    <path d=\"M0 0h24v24H0V0z\" fill=\"none\"/>\n",
              "    <path d=\"M18.56 5.44l.94 2.06.94-2.06 2.06-.94-2.06-.94-.94-2.06-.94 2.06-2.06.94zm-11 1L8.5 8.5l.94-2.06 2.06-.94-2.06-.94L8.5 2.5l-.94 2.06-2.06.94zm10 10l.94 2.06.94-2.06 2.06-.94-2.06-.94-.94-2.06-.94 2.06-2.06.94z\"/><path d=\"M17.41 7.96l-1.37-1.37c-.4-.4-.92-.59-1.43-.59-.52 0-1.04.2-1.43.59L10.3 9.45l-7.72 7.72c-.78.78-.78 2.05 0 2.83L4 21.41c.39.39.9.59 1.41.59.51 0 1.02-.2 1.41-.59l7.78-7.78 2.81-2.81c.8-.78.8-2.07 0-2.86zM5.41 20L4 18.59l7.72-7.72 1.47 1.35L5.41 20z\"/>\n",
              "  </svg>\n",
              "      </button>\n",
              "      \n",
              "  <style>\n",
              "    .colab-df-container {\n",
              "      display:flex;\n",
              "      flex-wrap:wrap;\n",
              "      gap: 12px;\n",
              "    }\n",
              "\n",
              "    .colab-df-convert {\n",
              "      background-color: #E8F0FE;\n",
              "      border: none;\n",
              "      border-radius: 50%;\n",
              "      cursor: pointer;\n",
              "      display: none;\n",
              "      fill: #1967D2;\n",
              "      height: 32px;\n",
              "      padding: 0 0 0 0;\n",
              "      width: 32px;\n",
              "    }\n",
              "\n",
              "    .colab-df-convert:hover {\n",
              "      background-color: #E2EBFA;\n",
              "      box-shadow: 0px 1px 2px rgba(60, 64, 67, 0.3), 0px 1px 3px 1px rgba(60, 64, 67, 0.15);\n",
              "      fill: #174EA6;\n",
              "    }\n",
              "\n",
              "    [theme=dark] .colab-df-convert {\n",
              "      background-color: #3B4455;\n",
              "      fill: #D2E3FC;\n",
              "    }\n",
              "\n",
              "    [theme=dark] .colab-df-convert:hover {\n",
              "      background-color: #434B5C;\n",
              "      box-shadow: 0px 1px 3px 1px rgba(0, 0, 0, 0.15);\n",
              "      filter: drop-shadow(0px 1px 2px rgba(0, 0, 0, 0.3));\n",
              "      fill: #FFFFFF;\n",
              "    }\n",
              "  </style>\n",
              "\n",
              "      <script>\n",
              "        const buttonEl =\n",
              "          document.querySelector('#df-ff5e5f63-3d6c-4ca5-8eac-cefd7a19f132 button.colab-df-convert');\n",
              "        buttonEl.style.display =\n",
              "          google.colab.kernel.accessAllowed ? 'block' : 'none';\n",
              "\n",
              "        async function convertToInteractive(key) {\n",
              "          const element = document.querySelector('#df-ff5e5f63-3d6c-4ca5-8eac-cefd7a19f132');\n",
              "          const dataTable =\n",
              "            await google.colab.kernel.invokeFunction('convertToInteractive',\n",
              "                                                     [key], {});\n",
              "          if (!dataTable) return;\n",
              "\n",
              "          const docLinkHtml = 'Like what you see? Visit the ' +\n",
              "            '<a target=\"_blank\" href=https://colab.research.google.com/notebooks/data_table.ipynb>data table notebook</a>'\n",
              "            + ' to learn more about interactive tables.';\n",
              "          element.innerHTML = '';\n",
              "          dataTable['output_type'] = 'display_data';\n",
              "          await google.colab.output.renderOutput(dataTable, element);\n",
              "          const docLink = document.createElement('div');\n",
              "          docLink.innerHTML = docLinkHtml;\n",
              "          element.appendChild(docLink);\n",
              "        }\n",
              "      </script>\n",
              "    </div>\n",
              "  </div>\n",
              "  "
            ]
          },
          "metadata": {},
          "execution_count": 8
        }
      ]
    },
    {
      "cell_type": "code",
      "source": [
        "df.shape"
      ],
      "metadata": {
        "colab": {
          "base_uri": "https://localhost:8080/"
        },
        "id": "7W7lwLd9tTMf",
        "outputId": "09a76467-0042-4bc6-949e-3f622b8b0487"
      },
      "execution_count": 9,
      "outputs": [
        {
          "output_type": "execute_result",
          "data": {
            "text/plain": [
              "(114, 2)"
            ]
          },
          "metadata": {},
          "execution_count": 9
        }
      ]
    },
    {
      "cell_type": "code",
      "source": [
        "df.iloc[63,1]"
      ],
      "metadata": {
        "colab": {
          "base_uri": "https://localhost:8080/",
          "height": 35
        },
        "id": "j91aa_3htW12",
        "outputId": "3cf3b33b-9fdf-415f-a998-36c774ab9aa1"
      },
      "execution_count": 10,
      "outputs": [
        {
          "output_type": "execute_result",
          "data": {
            "text/plain": [
              "'https://insights.blackcoffer.com/estimating-the-impact-of-covid-19-on-the-world-of-work-3/'"
            ],
            "application/vnd.google.colaboratory.intrinsic+json": {
              "type": "string"
            }
          },
          "metadata": {},
          "execution_count": 10
        }
      ]
    },
    {
      "cell_type": "code",
      "source": [
        "link = df.iloc[63,1]"
      ],
      "metadata": {
        "id": "IYsE5dwttYi1"
      },
      "execution_count": 11,
      "outputs": []
    },
    {
      "cell_type": "code",
      "source": [
        "headers = {\n",
        "    'User-Agent': 'Mozilla/5.0 (Macintosh; Intel Mac OS X 10.12; rv:55.0) Gecko/20100101 Firefox/55.0',\n",
        "}"
      ],
      "metadata": {
        "id": "m6ipe4sftbDl"
      },
      "execution_count": 12,
      "outputs": []
    },
    {
      "cell_type": "code",
      "source": [
        "source = requests.get(link, headers=headers).text\n",
        "data = BeautifulSoup(source, 'lxml')\n",
        "article = data.find('article')\n",
        "title = article.h1.text\n",
        "body =  article.find('div', class_='td-post-content').text\n",
        "date = article.find('div', class_='td-module-meta-info').time.text"
      ],
      "metadata": {
        "id": "w79V31iPtb85"
      },
      "execution_count": 13,
      "outputs": []
    },
    {
      "cell_type": "code",
      "source": [
        "title"
      ],
      "metadata": {
        "colab": {
          "base_uri": "https://localhost:8080/",
          "height": 35
        },
        "id": "2jhFcO9Rtey2",
        "outputId": "cec91b91-b76e-4f3e-d1c9-8c17b7614a97"
      },
      "execution_count": 14,
      "outputs": [
        {
          "output_type": "execute_result",
          "data": {
            "text/plain": [
              "'Estimating the impact of COVID-19 on the world of work'"
            ],
            "application/vnd.google.colaboratory.intrinsic+json": {
              "type": "string"
            }
          },
          "metadata": {},
          "execution_count": 14
        }
      ]
    },
    {
      "cell_type": "code",
      "source": [
        "body"
      ],
      "metadata": {
        "colab": {
          "base_uri": "https://localhost:8080/",
          "height": 174
        },
        "id": "Ylaorb1SthWn",
        "outputId": "7080f967-c47c-4110-ed4a-7ce1e430c816"
      },
      "execution_count": 15,
      "outputs": [
        {
          "output_type": "execute_result",
          "data": {
            "text/plain": [
              "'\\n\\n\\n\\nWill COVID19 END Globalization?\\nGlobalization:\\nGlobalization envisages a borderless world or seeks the world as a global village • It is attributed to the accelerated flow of goods, people, capital, information, and energy across borders, often enabled by technological developments.\\n\\nGlobalization Trends:\\nStarting from 1990s globalization dominated world’s economic order.\\nAnti-Globalization Wave:\\nGlobalization had already begun to stagnate since the 2008-09 Global Financial Crisis.\\nSlowing Down of Trade:\\nTrade as a percentage of global GDP increased from 39% in 1991 to 61% in 2008 but has stagnated over the past decade.\\n\\nCountries Policies Reflecting the Reverse Globalization:\\nThe following polices and steps of various countries shows the protactinium\\n1.USA\\nWe reject Globalism, President trump took ‘American First to the United States – Trump\\n2. Brexit\\nBrexit is a rejection of globalization-Larry Elliott\\nSlowing Movement of People:\\nThough number of tourists increased in the last decade.\\n1.Indian IT’s H-1B Visa woes could worsen in 2020\\n\\nThe above article reveals that Under the Trump administration, Indian IT services companies have seen rejection rates jump from 6% in 2015 to 24% in 2019.\\n2.Racism study finds one in three school students are victims of discrimination\\nTrade Wars and Halting of WTO Talks: Retreat of Globalization:\\n1.Chinese-US trade war threatens globalization\\n2.Protectionists put brakes on trade liberalization\\nDue to These Factors, International Media Is Referring to The Process of Globalization By The Term ‘SLOWBALISATION’\\nThe ongoing phase of globalization has not fully recovered, and the recent coronavirus has pushed forward the trends of reverse globalization\\nGlobalization Is Responsible for The Spread Of Coronavirus:\\nThe virus started in Wuhan, ChinaChina, being a hub of many industries. People from all over the world are travelling in and out of ChinaItaly itself a tourist and business hub, the man in Delhi who tested positive for coronavirus had travelled to ItalyOther countries get the virus because of the movement of people and goods\\nCorona Virus Has Halted The Movement Of People, Goods, Service, And Capital.\\nMore than a fifth of the world’s population has been under lockdown in the global fight against coronavirus with early sign of success.\\nDue to Supply Chain Break Down In China because of Coronavirus\\nCountries Providing Incentives To Shift Production To Their Native Country\\nAmid Covid-19 World Trade Has Halted, Investors Are Pulling Out Money from The Market\\nOther Side Of The Coin!!\\nCorona Virus Won’t End Globalization, But Change It Hugely for The A Better\\nWill Hutton\\nAn unregulated world can be blamed for its spread, but collective action based on evidence could be the best way to stop it.\\nTrade During Coronavirus:\\n1.India Readies list of 13 countries to send hydroxychloroquine.\\n2.China Sends doctors and masks overseas domestic coronavirus infection drop.\\nMovement of Ideas\\nCountries are converging virtually to share best practice to fight pandemic\\nInternational meeting such as G-20, SAARC summit organized virtually\\nLiving apart, we must stand together’ to battle coronavirus pandemic-UN Rights chief.\\nChina’s BRI Project after COVID-19\\nBRI Project:\\nThe Belt and Road Initiative is a global development strategy adopted by the Chinese government in 2013 involving infrastructure development and investments in nearly 70 countries and international organizations in Asia, Europe, and Africa.\\n\\nCurtailed Connectivity after Covid19:\\nA devastating economic collapse of potentially historic proportions after Covid19, leading to social and political turmoil in a number of countries, and curtailed connectivity. Interestingly, the pandemic has exposed the risks and weaknesses of global interconnectedness, which will affect China’s BRI.\\nFunding Shortfall for BRI\\nSo far, BRI has been powered primarily by China, whose growth rates were decreasing even before the outbreak. Exports Hit: With the United States and Europe reeling from the pandemic, Chinese exports will take a big hit.\\nChina confronts major Risk of debt on belt and road due to pandemic\\nChina’s growth hit a near 30-year low of 6.1%\\nRoughly 5 Million people in china lost their jobs in the first 2 months of 2020.\\nLast February, China’s official urban unemployment jumped to an unprecedented 6.2 percent. Unemployed Number may go up to 9 million by the end of 2020.\\nChina will have to choose out of two competing priorities:\\navoiding the middle-income trap,while at the same time posturing as a superpower abroad.\\nSo, not only may BRI be short of cash, but it will also be hard to sell at home\\nAll Economies along BRI routes affected\\nPakistan, host to the biggest BRI megaproject in the world, is poised to sustain a $8.2 billion loss, according to ADB. The respective figure for Bangladesh is $3 billion. Thailand is now bracing up for a recession. Africa is equally vulnerable, as China is the continent’s largest market.\\nCovid19 hit Chinese companies executing BRI contracts can rely on support from the CDB in the form of low-cost financing. Yet, Chinese policy banks will be increasingly picky and inclined to stay away from new projects that may turn out to be loss-makers.\\nChina Development Bank to support Belt and road companies hit by coronavirus -Xinhua\\nThe Coronavirus and Xi Jinping’s Worldview\\nPriority list:\\nNo. 1 preserving the CCP’s power\\nNo. 2 maintaining national unity\\nNo. 3 the expansion of the economy No. 4 environmental sustainability\\nNo. 5 modernize the Chinese military\\nNo. 6 China’s 14 neighboring states\\nNo. 7 weaken America’s longstanding security alliances No. 8 terrestrial Silk Road Economic Belt No. 9 Maritime Silk Road\\nNo 10 reshape the global order\\nUnder extreme circumstances, Beijing will not consider the BRI as important.\\nIs the BRI Finished then? Short Term: Yes, BRI will Face Trouble\\nIn particular, the summer of 2020 may be a period of hibernation for several BRI projects.\\nThe outbreak has brought Chinese labor supplies and equipment imports along BRI routes down to a trickle\\nNot Exactly!!! In fact, the initiative’s fuzzy content is being further enriched with the “Health Silk Road” add-on narrative and “mask diplomacy” in a major soft-power push.\\nLong Term: A Changed BRI will Emerge\\nThe BRI is bound to change. Strategies will change.\\nIt might even be Defined Properly\\nSeven years after this ambitious initiative was announced it remains a blurred vision in need of a comprehensive conceptual framework, international standards, and a coherent implementation strategy.\\nThis is one of the reasons why the BRI has become controversial and has caused a backlash in many countries.\\nA Shift away from Roads and Bridges\\nBRI expenditure up to 2019 stood at $545 billion. (WB Estimate) About two-thirds of spending on BRI projects has gone into the energy sector and transport\\nHowever, developing countries in need of infrastructure will be terribly cash-strapped, there may be a shift away from roads, bridges, and coalfired power plants funded through Chinese loans.\\nNew BRI projects will probably be more strategically chosen. \\nBeijing has been investing in the creation of a globe-spanning network of economic corridors, logistics zones, and financial centers, with stress laid on seaports and adjacent areas. Egypt’s Suez Canal Economic Zone and Sri Lanka’s Colombo Port City clearly show this trend.\\nIn addition, projects are likely to focus on more sophisticated forms of connectivity, such as 5G networks or, in the wake of the pandemic, disaster management, public health-related high-tech, and even remote surgery. China will surely use the BRI for the projection of its soft power, an increasingly important battlefield in international relations.\\nThe world has become aware of the risks of overwhelming reliance on China.\\nAmid of Coronavirus outbreak we can see the major economies are strengthening their authorities with their major concern\\nThe USA is conducting space miningChina’s maritime AggressionIndia USA $155 Million Defense Deal, US Approves sale of Anti-Ship Missiles and torpedoes to India.\\nBlackcoffer Insights 17: V.Jagan, IIM Kashipur\\n'"
            ],
            "application/vnd.google.colaboratory.intrinsic+json": {
              "type": "string"
            }
          },
          "metadata": {},
          "execution_count": 15
        }
      ]
    },
    {
      "cell_type": "code",
      "source": [
        "footer = article.find('div', class_='td-post-content').pre.text \n",
        "footer"
      ],
      "metadata": {
        "colab": {
          "base_uri": "https://localhost:8080/",
          "height": 35
        },
        "id": "OC8Vq1MCti9R",
        "outputId": "7f3e1a41-08f5-4133-8a14-ba9413ba9698"
      },
      "execution_count": 16,
      "outputs": [
        {
          "output_type": "execute_result",
          "data": {
            "text/plain": [
              "'Blackcoffer Insights 17: V.Jagan, IIM Kashipur'"
            ],
            "application/vnd.google.colaboratory.intrinsic+json": {
              "type": "string"
            }
          },
          "metadata": {},
          "execution_count": 16
        }
      ]
    },
    {
      "cell_type": "code",
      "source": [
        "body = body.replace(footer, '')"
      ],
      "metadata": {
        "id": "ZWVma7Zrtlku"
      },
      "execution_count": 17,
      "outputs": []
    },
    {
      "cell_type": "code",
      "source": [
        "body"
      ],
      "metadata": {
        "colab": {
          "base_uri": "https://localhost:8080/",
          "height": 174
        },
        "id": "U7cDOA5stoDa",
        "outputId": "5967dee2-c141-462f-ce4a-0666940cfe1e"
      },
      "execution_count": 18,
      "outputs": [
        {
          "output_type": "execute_result",
          "data": {
            "text/plain": [
              "'\\n\\n\\n\\nWill COVID19 END Globalization?\\nGlobalization:\\nGlobalization envisages a borderless world or seeks the world as a global village • It is attributed to the accelerated flow of goods, people, capital, information, and energy across borders, often enabled by technological developments.\\n\\nGlobalization Trends:\\nStarting from 1990s globalization dominated world’s economic order.\\nAnti-Globalization Wave:\\nGlobalization had already begun to stagnate since the 2008-09 Global Financial Crisis.\\nSlowing Down of Trade:\\nTrade as a percentage of global GDP increased from 39% in 1991 to 61% in 2008 but has stagnated over the past decade.\\n\\nCountries Policies Reflecting the Reverse Globalization:\\nThe following polices and steps of various countries shows the protactinium\\n1.USA\\nWe reject Globalism, President trump took ‘American First to the United States – Trump\\n2. Brexit\\nBrexit is a rejection of globalization-Larry Elliott\\nSlowing Movement of People:\\nThough number of tourists increased in the last decade.\\n1.Indian IT’s H-1B Visa woes could worsen in 2020\\n\\nThe above article reveals that Under the Trump administration, Indian IT services companies have seen rejection rates jump from 6% in 2015 to 24% in 2019.\\n2.Racism study finds one in three school students are victims of discrimination\\nTrade Wars and Halting of WTO Talks: Retreat of Globalization:\\n1.Chinese-US trade war threatens globalization\\n2.Protectionists put brakes on trade liberalization\\nDue to These Factors, International Media Is Referring to The Process of Globalization By The Term ‘SLOWBALISATION’\\nThe ongoing phase of globalization has not fully recovered, and the recent coronavirus has pushed forward the trends of reverse globalization\\nGlobalization Is Responsible for The Spread Of Coronavirus:\\nThe virus started in Wuhan, ChinaChina, being a hub of many industries. People from all over the world are travelling in and out of ChinaItaly itself a tourist and business hub, the man in Delhi who tested positive for coronavirus had travelled to ItalyOther countries get the virus because of the movement of people and goods\\nCorona Virus Has Halted The Movement Of People, Goods, Service, And Capital.\\nMore than a fifth of the world’s population has been under lockdown in the global fight against coronavirus with early sign of success.\\nDue to Supply Chain Break Down In China because of Coronavirus\\nCountries Providing Incentives To Shift Production To Their Native Country\\nAmid Covid-19 World Trade Has Halted, Investors Are Pulling Out Money from The Market\\nOther Side Of The Coin!!\\nCorona Virus Won’t End Globalization, But Change It Hugely for The A Better\\nWill Hutton\\nAn unregulated world can be blamed for its spread, but collective action based on evidence could be the best way to stop it.\\nTrade During Coronavirus:\\n1.India Readies list of 13 countries to send hydroxychloroquine.\\n2.China Sends doctors and masks overseas domestic coronavirus infection drop.\\nMovement of Ideas\\nCountries are converging virtually to share best practice to fight pandemic\\nInternational meeting such as G-20, SAARC summit organized virtually\\nLiving apart, we must stand together’ to battle coronavirus pandemic-UN Rights chief.\\nChina’s BRI Project after COVID-19\\nBRI Project:\\nThe Belt and Road Initiative is a global development strategy adopted by the Chinese government in 2013 involving infrastructure development and investments in nearly 70 countries and international organizations in Asia, Europe, and Africa.\\n\\nCurtailed Connectivity after Covid19:\\nA devastating economic collapse of potentially historic proportions after Covid19, leading to social and political turmoil in a number of countries, and curtailed connectivity. Interestingly, the pandemic has exposed the risks and weaknesses of global interconnectedness, which will affect China’s BRI.\\nFunding Shortfall for BRI\\nSo far, BRI has been powered primarily by China, whose growth rates were decreasing even before the outbreak. Exports Hit: With the United States and Europe reeling from the pandemic, Chinese exports will take a big hit.\\nChina confronts major Risk of debt on belt and road due to pandemic\\nChina’s growth hit a near 30-year low of 6.1%\\nRoughly 5 Million people in china lost their jobs in the first 2 months of 2020.\\nLast February, China’s official urban unemployment jumped to an unprecedented 6.2 percent. Unemployed Number may go up to 9 million by the end of 2020.\\nChina will have to choose out of two competing priorities:\\navoiding the middle-income trap,while at the same time posturing as a superpower abroad.\\nSo, not only may BRI be short of cash, but it will also be hard to sell at home\\nAll Economies along BRI routes affected\\nPakistan, host to the biggest BRI megaproject in the world, is poised to sustain a $8.2 billion loss, according to ADB. The respective figure for Bangladesh is $3 billion. Thailand is now bracing up for a recession. Africa is equally vulnerable, as China is the continent’s largest market.\\nCovid19 hit Chinese companies executing BRI contracts can rely on support from the CDB in the form of low-cost financing. Yet, Chinese policy banks will be increasingly picky and inclined to stay away from new projects that may turn out to be loss-makers.\\nChina Development Bank to support Belt and road companies hit by coronavirus -Xinhua\\nThe Coronavirus and Xi Jinping’s Worldview\\nPriority list:\\nNo. 1 preserving the CCP’s power\\nNo. 2 maintaining national unity\\nNo. 3 the expansion of the economy No. 4 environmental sustainability\\nNo. 5 modernize the Chinese military\\nNo. 6 China’s 14 neighboring states\\nNo. 7 weaken America’s longstanding security alliances No. 8 terrestrial Silk Road Economic Belt No. 9 Maritime Silk Road\\nNo 10 reshape the global order\\nUnder extreme circumstances, Beijing will not consider the BRI as important.\\nIs the BRI Finished then? Short Term: Yes, BRI will Face Trouble\\nIn particular, the summer of 2020 may be a period of hibernation for several BRI projects.\\nThe outbreak has brought Chinese labor supplies and equipment imports along BRI routes down to a trickle\\nNot Exactly!!! In fact, the initiative’s fuzzy content is being further enriched with the “Health Silk Road” add-on narrative and “mask diplomacy” in a major soft-power push.\\nLong Term: A Changed BRI will Emerge\\nThe BRI is bound to change. Strategies will change.\\nIt might even be Defined Properly\\nSeven years after this ambitious initiative was announced it remains a blurred vision in need of a comprehensive conceptual framework, international standards, and a coherent implementation strategy.\\nThis is one of the reasons why the BRI has become controversial and has caused a backlash in many countries.\\nA Shift away from Roads and Bridges\\nBRI expenditure up to 2019 stood at $545 billion. (WB Estimate) About two-thirds of spending on BRI projects has gone into the energy sector and transport\\nHowever, developing countries in need of infrastructure will be terribly cash-strapped, there may be a shift away from roads, bridges, and coalfired power plants funded through Chinese loans.\\nNew BRI projects will probably be more strategically chosen. \\nBeijing has been investing in the creation of a globe-spanning network of economic corridors, logistics zones, and financial centers, with stress laid on seaports and adjacent areas. Egypt’s Suez Canal Economic Zone and Sri Lanka’s Colombo Port City clearly show this trend.\\nIn addition, projects are likely to focus on more sophisticated forms of connectivity, such as 5G networks or, in the wake of the pandemic, disaster management, public health-related high-tech, and even remote surgery. China will surely use the BRI for the projection of its soft power, an increasingly important battlefield in international relations.\\nThe world has become aware of the risks of overwhelming reliance on China.\\nAmid of Coronavirus outbreak we can see the major economies are strengthening their authorities with their major concern\\nThe USA is conducting space miningChina’s maritime AggressionIndia USA $155 Million Defense Deal, US Approves sale of Anti-Ship Missiles and torpedoes to India.\\n\\n'"
            ],
            "application/vnd.google.colaboratory.intrinsic+json": {
              "type": "string"
            }
          },
          "metadata": {},
          "execution_count": 18
        }
      ]
    },
    {
      "cell_type": "code",
      "source": [
        "new_body = body.replace('\\n',' ')\n",
        "new_body = new_body.replace('\\xa0',' ')\n",
        "\n",
        "new_body"
      ],
      "metadata": {
        "colab": {
          "base_uri": "https://localhost:8080/",
          "height": 174
        },
        "id": "k_VugUrmttHj",
        "outputId": "3fab3756-d700-437e-f1fd-aa11dcbc3b1c"
      },
      "execution_count": 19,
      "outputs": [
        {
          "output_type": "execute_result",
          "data": {
            "text/plain": [
              "'    Will COVID19 END Globalization? Globalization: Globalization envisages a borderless world or seeks the world as a global village • It is attributed to the accelerated flow of goods, people, capital, information, and energy across borders, often enabled by technological developments.  Globalization Trends: Starting from 1990s globalization dominated world’s economic order. Anti-Globalization Wave: Globalization had already begun to stagnate since the 2008-09 Global Financial Crisis. Slowing Down of Trade: Trade as a percentage of global GDP increased from 39% in 1991 to 61% in 2008 but has stagnated over the past decade.  Countries Policies Reflecting the Reverse Globalization: The following polices and steps of various countries shows the protactinium 1.USA We reject Globalism, President trump took ‘American First to the United States – Trump 2. Brexit Brexit is a rejection of globalization-Larry Elliott Slowing Movement of People: Though number of tourists increased in the last decade. 1.Indian IT’s H-1B Visa woes could worsen in 2020  The above article reveals that Under the Trump administration, Indian IT services companies have seen rejection rates jump from 6% in 2015 to 24% in 2019. 2.Racism study finds one in three school students are victims of discrimination Trade Wars and Halting of WTO Talks: Retreat of Globalization: 1.Chinese-US trade war threatens globalization 2.Protectionists put brakes on trade liberalization Due to These Factors, International Media Is Referring to The Process of Globalization By The Term ‘SLOWBALISATION’ The ongoing phase of globalization has not fully recovered, and the recent coronavirus has pushed forward the trends of reverse globalization Globalization Is Responsible for The Spread Of Coronavirus: The virus started in Wuhan, ChinaChina, being a hub of many industries. People from all over the world are travelling in and out of ChinaItaly itself a tourist and business hub, the man in Delhi who tested positive for coronavirus had travelled to ItalyOther countries get the virus because of the movement of people and goods Corona Virus Has Halted The Movement Of People, Goods, Service, And Capital. More than a fifth of the world’s population has been under lockdown in the global fight against coronavirus with early sign of success. Due to Supply Chain Break Down In China because of Coronavirus Countries Providing Incentives To Shift Production To Their Native Country Amid Covid-19 World Trade Has Halted, Investors Are Pulling Out Money from The Market Other Side Of The Coin!! Corona Virus Won’t End Globalization, But Change It Hugely for The A Better Will Hutton An unregulated world can be blamed for its spread, but collective action based on evidence could be the best way to stop it. Trade During Coronavirus: 1.India Readies list of 13 countries to send hydroxychloroquine. 2.China Sends doctors and masks overseas domestic coronavirus infection drop. Movement of Ideas Countries are converging virtually to share best practice to fight pandemic International meeting such as G-20, SAARC summit organized virtually Living apart, we must stand together’ to battle coronavirus pandemic-UN Rights chief. China’s BRI Project after COVID-19 BRI Project: The Belt and Road Initiative is a global development strategy adopted by the Chinese government in 2013 involving infrastructure development and investments in nearly 70 countries and international organizations in Asia, Europe, and Africa.  Curtailed Connectivity after Covid19: A devastating economic collapse of potentially historic proportions after Covid19, leading to social and political turmoil in a number of countries, and curtailed connectivity. Interestingly, the pandemic has exposed the risks and weaknesses of global interconnectedness, which will affect China’s BRI. Funding Shortfall for BRI So far, BRI has been powered primarily by China, whose growth rates were decreasing even before the outbreak. Exports Hit: With the United States and Europe reeling from the pandemic, Chinese exports will take a big hit. China confronts major Risk of debt on belt and road due to pandemic China’s growth hit a near 30-year low of 6.1% Roughly 5 Million people in china lost their jobs in the first 2 months of 2020. Last February, China’s official urban unemployment jumped to an unprecedented 6.2 percent. Unemployed Number may go up to 9 million by the end of 2020. China will have to choose out of two competing priorities: avoiding the middle-income trap,while at the same time posturing as a superpower abroad. So, not only may BRI be short of cash, but it will also be hard to sell at home All Economies along BRI routes affected Pakistan, host to the biggest BRI megaproject in the world, is poised to sustain a $8.2 billion loss, according to ADB. The respective figure for Bangladesh is $3 billion. Thailand is now bracing up for a recession. Africa is equally vulnerable, as China is the continent’s largest market. Covid19 hit Chinese companies executing BRI contracts can rely on support from the CDB in the form of low-cost financing. Yet, Chinese policy banks will be increasingly picky and inclined to stay away from new projects that may turn out to be loss-makers. China Development Bank to support Belt and road companies hit by coronavirus -Xinhua The Coronavirus and Xi Jinping’s Worldview Priority list: No. 1 preserving the CCP’s power No. 2 maintaining national unity No. 3 the expansion of the economy No. 4 environmental sustainability No. 5 modernize the Chinese military No. 6 China’s 14 neighboring states No. 7 weaken America’s longstanding security alliances No. 8 terrestrial Silk Road Economic Belt No. 9 Maritime Silk Road No 10 reshape the global order Under extreme circumstances, Beijing will not consider the BRI as important. Is the BRI Finished then? Short Term: Yes, BRI will Face Trouble In particular, the summer of 2020 may be a period of hibernation for several BRI projects. The outbreak has brought Chinese labor supplies and equipment imports along BRI routes down to a trickle Not Exactly!!! In fact, the initiative’s fuzzy content is being further enriched with the “Health Silk Road” add-on narrative and “mask diplomacy” in a major soft-power push. Long Term: A Changed BRI will Emerge The BRI is bound to change. Strategies will change. It might even be Defined Properly Seven years after this ambitious initiative was announced it remains a blurred vision in need of a comprehensive conceptual framework, international standards, and a coherent implementation strategy. This is one of the reasons why the BRI has become controversial and has caused a backlash in many countries. A Shift away from Roads and Bridges BRI expenditure up to 2019 stood at $545 billion. (WB Estimate) About two-thirds of spending on BRI projects has gone into the energy sector and transport However, developing countries in need of infrastructure will be terribly cash-strapped, there may be a shift away from roads, bridges, and coalfired power plants funded through Chinese loans. New BRI projects will probably be more strategically chosen.  Beijing has been investing in the creation of a globe-spanning network of economic corridors, logistics zones, and financial centers, with stress laid on seaports and adjacent areas. Egypt’s Suez Canal Economic Zone and Sri Lanka’s Colombo Port City clearly show this trend. In addition, projects are likely to focus on more sophisticated forms of connectivity, such as 5G networks or, in the wake of the pandemic, disaster management, public health-related high-tech, and even remote surgery. China will surely use the BRI for the projection of its soft power, an increasingly important battlefield in international relations. The world has become aware of the risks of overwhelming reliance on China. Amid of Coronavirus outbreak we can see the major economies are strengthening their authorities with their major concern The USA is conducting space miningChina’s maritime AggressionIndia USA $155 Million Defense Deal, US Approves sale of Anti-Ship Missiles and torpedoes to India.  '"
            ],
            "application/vnd.google.colaboratory.intrinsic+json": {
              "type": "string"
            }
          },
          "metadata": {},
          "execution_count": 19
        }
      ]
    },
    {
      "cell_type": "code",
      "source": [
        "date"
      ],
      "metadata": {
        "colab": {
          "base_uri": "https://localhost:8080/",
          "height": 35
        },
        "id": "ZKbSerguttum",
        "outputId": "0e87a5b2-a166-4c32-9787-fdfd8a50ffe7"
      },
      "execution_count": 20,
      "outputs": [
        {
          "output_type": "execute_result",
          "data": {
            "text/plain": [
              "'May 1, 2020'"
            ],
            "application/vnd.google.colaboratory.intrinsic+json": {
              "type": "string"
            }
          },
          "metadata": {},
          "execution_count": 20
        }
      ]
    },
    {
      "cell_type": "code",
      "source": [
        "new_body = [i for i in new_body if i is not None]"
      ],
      "metadata": {
        "id": "wJxQeeGLtxnG"
      },
      "execution_count": 21,
      "outputs": []
    },
    {
      "cell_type": "code",
      "source": [
        "titles=[]\n",
        "bodies=[]\n",
        "csv_file = open('blackcoffer.csv', 'w')\n",
        "csv_writer = csv.writer(csv_file)\n",
        "csv_writer.writerow(['Id', 'Date', 'Title', 'Text'])\n",
        "for index in range(0, df.shape[0], 1):\n",
        "  source = requests.get(df.iloc[index,1],headers=headers).text\n",
        "  data = BeautifulSoup(source, 'lxml')\n",
        "  art = data.find('article')\n",
        "  title = art.h1.text\n",
        "  titles.append(title)\n",
        "  body = art.find('div',class_='td-post-content').text\n",
        "  body = body.replace('\\n',' ')\n",
        "  body = body.replace('\\xa0',' ')\n",
        "  date = art.find('div', class_='td-module-meta-info').time.text\n",
        "  try:\n",
        "    footer = art.find('div',class_='td-post-content').pre.text\n",
        "    body = body.replace(footer,'')\n",
        "  except Exception as x:\n",
        "    footer=''\n",
        "  bodies.append(body)\n",
        "  csv_writer.writerow([df.iloc[index,0], date, title, body])\n",
        "csv_file.close()"
      ],
      "metadata": {
        "colab": {
          "base_uri": "https://localhost:8080/",
          "height": 235
        },
        "id": "S0wwN8omt4AS",
        "outputId": "7217fcac-62f8-44cf-8a1f-e41b5603cc3e"
      },
      "execution_count": 22,
      "outputs": [
        {
          "output_type": "error",
          "ename": "AttributeError",
          "evalue": "ignored",
          "traceback": [
            "\u001b[0;31m---------------------------------------------------------------------------\u001b[0m",
            "\u001b[0;31mAttributeError\u001b[0m                            Traceback (most recent call last)",
            "\u001b[0;32m<ipython-input-22-b19992226dc9>\u001b[0m in \u001b[0;36m<module>\u001b[0;34m\u001b[0m\n\u001b[1;32m      8\u001b[0m   \u001b[0mdata\u001b[0m \u001b[0;34m=\u001b[0m \u001b[0mBeautifulSoup\u001b[0m\u001b[0;34m(\u001b[0m\u001b[0msource\u001b[0m\u001b[0;34m,\u001b[0m \u001b[0;34m'lxml'\u001b[0m\u001b[0;34m)\u001b[0m\u001b[0;34m\u001b[0m\u001b[0;34m\u001b[0m\u001b[0m\n\u001b[1;32m      9\u001b[0m   \u001b[0mart\u001b[0m \u001b[0;34m=\u001b[0m \u001b[0mdata\u001b[0m\u001b[0;34m.\u001b[0m\u001b[0mfind\u001b[0m\u001b[0;34m(\u001b[0m\u001b[0;34m'article'\u001b[0m\u001b[0;34m)\u001b[0m\u001b[0;34m\u001b[0m\u001b[0;34m\u001b[0m\u001b[0m\n\u001b[0;32m---> 10\u001b[0;31m   \u001b[0mtitle\u001b[0m \u001b[0;34m=\u001b[0m \u001b[0mart\u001b[0m\u001b[0;34m.\u001b[0m\u001b[0mh1\u001b[0m\u001b[0;34m.\u001b[0m\u001b[0mtext\u001b[0m\u001b[0;34m\u001b[0m\u001b[0;34m\u001b[0m\u001b[0m\n\u001b[0m\u001b[1;32m     11\u001b[0m   \u001b[0mtitles\u001b[0m\u001b[0;34m.\u001b[0m\u001b[0mappend\u001b[0m\u001b[0;34m(\u001b[0m\u001b[0mtitle\u001b[0m\u001b[0;34m)\u001b[0m\u001b[0;34m\u001b[0m\u001b[0;34m\u001b[0m\u001b[0m\n\u001b[1;32m     12\u001b[0m   \u001b[0mbody\u001b[0m \u001b[0;34m=\u001b[0m \u001b[0mart\u001b[0m\u001b[0;34m.\u001b[0m\u001b[0mfind\u001b[0m\u001b[0;34m(\u001b[0m\u001b[0;34m'div'\u001b[0m\u001b[0;34m,\u001b[0m\u001b[0mclass_\u001b[0m\u001b[0;34m=\u001b[0m\u001b[0;34m'td-post-content'\u001b[0m\u001b[0;34m)\u001b[0m\u001b[0;34m.\u001b[0m\u001b[0mtext\u001b[0m\u001b[0;34m\u001b[0m\u001b[0;34m\u001b[0m\u001b[0m\n",
            "\u001b[0;31mAttributeError\u001b[0m: 'NoneType' object has no attribute 'h1'"
          ]
        }
      ]
    },
    {
      "cell_type": "code",
      "source": [
        "file = pd.read_csv('./blackcoffer.csv')"
      ],
      "metadata": {
        "id": "3x5CktmZuSS4"
      },
      "execution_count": 23,
      "outputs": []
    },
    {
      "cell_type": "code",
      "source": [
        "file.shape"
      ],
      "metadata": {
        "colab": {
          "base_uri": "https://localhost:8080/"
        },
        "id": "i4zZnSezuXi7",
        "outputId": "b39d0c79-a613-4141-a949-cf7c215377dc"
      },
      "execution_count": 24,
      "outputs": [
        {
          "output_type": "execute_result",
          "data": {
            "text/plain": [
              "(7, 4)"
            ]
          },
          "metadata": {},
          "execution_count": 24
        }
      ]
    },
    {
      "cell_type": "code",
      "source": [
        "file.head()"
      ],
      "metadata": {
        "colab": {
          "base_uri": "https://localhost:8080/",
          "height": 206
        },
        "id": "CZ2mM01subkz",
        "outputId": "558b666f-4792-44ef-da7e-c7ac3902371e"
      },
      "execution_count": 25,
      "outputs": [
        {
          "output_type": "execute_result",
          "data": {
            "text/plain": [
              "     Id           Date                                              Title  \\\n",
              "0  37.0  June 26, 2021       AI in healthcare to Improve Patient Outcomes   \n",
              "1  38.0  June 25, 2021   What if the Creation is Taking Over the Creator?   \n",
              "2  39.0  June 25, 2021  What Jobs Will Robots Take From Humans in The ...   \n",
              "3  40.0  June 25, 2021  Will Machine Replace The Human in the Future o...   \n",
              "4  41.0  June 25, 2021                Will AI Replace Us or Work With Us?   \n",
              "\n",
              "                                                Text  \n",
              "0   Introduction “If anything kills over 10 milli...  \n",
              "1   Human minds, a fascination in itself carrying...  \n",
              "2   Introduction AI is rapidly evolving in the em...  \n",
              "3   “Anything that could give rise to smarter-tha...  \n",
              "4   “Machine intelligence is the last invention t...  "
            ],
            "text/html": [
              "\n",
              "  <div id=\"df-292b3f68-ef14-456f-9edd-9c04ecf07eb0\">\n",
              "    <div class=\"colab-df-container\">\n",
              "      <div>\n",
              "<style scoped>\n",
              "    .dataframe tbody tr th:only-of-type {\n",
              "        vertical-align: middle;\n",
              "    }\n",
              "\n",
              "    .dataframe tbody tr th {\n",
              "        vertical-align: top;\n",
              "    }\n",
              "\n",
              "    .dataframe thead th {\n",
              "        text-align: right;\n",
              "    }\n",
              "</style>\n",
              "<table border=\"1\" class=\"dataframe\">\n",
              "  <thead>\n",
              "    <tr style=\"text-align: right;\">\n",
              "      <th></th>\n",
              "      <th>Id</th>\n",
              "      <th>Date</th>\n",
              "      <th>Title</th>\n",
              "      <th>Text</th>\n",
              "    </tr>\n",
              "  </thead>\n",
              "  <tbody>\n",
              "    <tr>\n",
              "      <th>0</th>\n",
              "      <td>37.0</td>\n",
              "      <td>June 26, 2021</td>\n",
              "      <td>AI in healthcare to Improve Patient Outcomes</td>\n",
              "      <td>Introduction “If anything kills over 10 milli...</td>\n",
              "    </tr>\n",
              "    <tr>\n",
              "      <th>1</th>\n",
              "      <td>38.0</td>\n",
              "      <td>June 25, 2021</td>\n",
              "      <td>What if the Creation is Taking Over the Creator?</td>\n",
              "      <td>Human minds, a fascination in itself carrying...</td>\n",
              "    </tr>\n",
              "    <tr>\n",
              "      <th>2</th>\n",
              "      <td>39.0</td>\n",
              "      <td>June 25, 2021</td>\n",
              "      <td>What Jobs Will Robots Take From Humans in The ...</td>\n",
              "      <td>Introduction AI is rapidly evolving in the em...</td>\n",
              "    </tr>\n",
              "    <tr>\n",
              "      <th>3</th>\n",
              "      <td>40.0</td>\n",
              "      <td>June 25, 2021</td>\n",
              "      <td>Will Machine Replace The Human in the Future o...</td>\n",
              "      <td>“Anything that could give rise to smarter-tha...</td>\n",
              "    </tr>\n",
              "    <tr>\n",
              "      <th>4</th>\n",
              "      <td>41.0</td>\n",
              "      <td>June 25, 2021</td>\n",
              "      <td>Will AI Replace Us or Work With Us?</td>\n",
              "      <td>“Machine intelligence is the last invention t...</td>\n",
              "    </tr>\n",
              "  </tbody>\n",
              "</table>\n",
              "</div>\n",
              "      <button class=\"colab-df-convert\" onclick=\"convertToInteractive('df-292b3f68-ef14-456f-9edd-9c04ecf07eb0')\"\n",
              "              title=\"Convert this dataframe to an interactive table.\"\n",
              "              style=\"display:none;\">\n",
              "        \n",
              "  <svg xmlns=\"http://www.w3.org/2000/svg\" height=\"24px\"viewBox=\"0 0 24 24\"\n",
              "       width=\"24px\">\n",
              "    <path d=\"M0 0h24v24H0V0z\" fill=\"none\"/>\n",
              "    <path d=\"M18.56 5.44l.94 2.06.94-2.06 2.06-.94-2.06-.94-.94-2.06-.94 2.06-2.06.94zm-11 1L8.5 8.5l.94-2.06 2.06-.94-2.06-.94L8.5 2.5l-.94 2.06-2.06.94zm10 10l.94 2.06.94-2.06 2.06-.94-2.06-.94-.94-2.06-.94 2.06-2.06.94z\"/><path d=\"M17.41 7.96l-1.37-1.37c-.4-.4-.92-.59-1.43-.59-.52 0-1.04.2-1.43.59L10.3 9.45l-7.72 7.72c-.78.78-.78 2.05 0 2.83L4 21.41c.39.39.9.59 1.41.59.51 0 1.02-.2 1.41-.59l7.78-7.78 2.81-2.81c.8-.78.8-2.07 0-2.86zM5.41 20L4 18.59l7.72-7.72 1.47 1.35L5.41 20z\"/>\n",
              "  </svg>\n",
              "      </button>\n",
              "      \n",
              "  <style>\n",
              "    .colab-df-container {\n",
              "      display:flex;\n",
              "      flex-wrap:wrap;\n",
              "      gap: 12px;\n",
              "    }\n",
              "\n",
              "    .colab-df-convert {\n",
              "      background-color: #E8F0FE;\n",
              "      border: none;\n",
              "      border-radius: 50%;\n",
              "      cursor: pointer;\n",
              "      display: none;\n",
              "      fill: #1967D2;\n",
              "      height: 32px;\n",
              "      padding: 0 0 0 0;\n",
              "      width: 32px;\n",
              "    }\n",
              "\n",
              "    .colab-df-convert:hover {\n",
              "      background-color: #E2EBFA;\n",
              "      box-shadow: 0px 1px 2px rgba(60, 64, 67, 0.3), 0px 1px 3px 1px rgba(60, 64, 67, 0.15);\n",
              "      fill: #174EA6;\n",
              "    }\n",
              "\n",
              "    [theme=dark] .colab-df-convert {\n",
              "      background-color: #3B4455;\n",
              "      fill: #D2E3FC;\n",
              "    }\n",
              "\n",
              "    [theme=dark] .colab-df-convert:hover {\n",
              "      background-color: #434B5C;\n",
              "      box-shadow: 0px 1px 3px 1px rgba(0, 0, 0, 0.15);\n",
              "      filter: drop-shadow(0px 1px 2px rgba(0, 0, 0, 0.3));\n",
              "      fill: #FFFFFF;\n",
              "    }\n",
              "  </style>\n",
              "\n",
              "      <script>\n",
              "        const buttonEl =\n",
              "          document.querySelector('#df-292b3f68-ef14-456f-9edd-9c04ecf07eb0 button.colab-df-convert');\n",
              "        buttonEl.style.display =\n",
              "          google.colab.kernel.accessAllowed ? 'block' : 'none';\n",
              "\n",
              "        async function convertToInteractive(key) {\n",
              "          const element = document.querySelector('#df-292b3f68-ef14-456f-9edd-9c04ecf07eb0');\n",
              "          const dataTable =\n",
              "            await google.colab.kernel.invokeFunction('convertToInteractive',\n",
              "                                                     [key], {});\n",
              "          if (!dataTable) return;\n",
              "\n",
              "          const docLinkHtml = 'Like what you see? Visit the ' +\n",
              "            '<a target=\"_blank\" href=https://colab.research.google.com/notebooks/data_table.ipynb>data table notebook</a>'\n",
              "            + ' to learn more about interactive tables.';\n",
              "          element.innerHTML = '';\n",
              "          dataTable['output_type'] = 'display_data';\n",
              "          await google.colab.output.renderOutput(dataTable, element);\n",
              "          const docLink = document.createElement('div');\n",
              "          docLink.innerHTML = docLinkHtml;\n",
              "          element.appendChild(docLink);\n",
              "        }\n",
              "      </script>\n",
              "    </div>\n",
              "  </div>\n",
              "  "
            ]
          },
          "metadata": {},
          "execution_count": 25
        }
      ]
    },
    {
      "cell_type": "code",
      "source": [
        "from textblob import TextBlob"
      ],
      "metadata": {
        "id": "VIc8s1E9uePo"
      },
      "execution_count": 26,
      "outputs": []
    },
    {
      "cell_type": "code",
      "source": [
        "from vaderSentiment.vaderSentiment import SentimentIntensityAnalyzer"
      ],
      "metadata": {
        "id": "4l5HRiTouuzq"
      },
      "execution_count": 28,
      "outputs": []
    },
    {
      "cell_type": "code",
      "source": [
        "from vaderSentiment.vaderSentiment import SentimentIntensityAnalyzer\n",
        "sentiment = SentimentIntensityAnalyzer()"
      ],
      "metadata": {
        "id": "o3AwLF_mvxh2"
      },
      "execution_count": 27,
      "outputs": []
    },
    {
      "cell_type": "code",
      "source": [
        "from textatistic import Textatistic"
      ],
      "metadata": {
        "id": "pqrGAuagv0Ye"
      },
      "execution_count": 29,
      "outputs": []
    },
    {
      "cell_type": "code",
      "source": [
        "#function to calculate the average sentence length across a piece of text.\n",
        "def avg_sentence_len(text):\n",
        "  sentences = text.split(\".\") #split the text into a list of sentences.\n",
        "  words = text.split(\" \") #split the input text into a list of separate words\n",
        "  if(sentences[len(sentences)-1]==\"\"): #if the last value in sentences is an empty string\n",
        "    average_sentence_length = len(words) / len(sentences)-1\n",
        "  else:\n",
        "    average_sentence_length = len(words) / len(sentences)\n",
        "  return average_sentence_length #returning avg length of sentence"
      ],
      "metadata": {
        "id": "GrE3UZa2v4Bi"
      },
      "execution_count": 30,
      "outputs": []
    },
    {
      "cell_type": "markdown",
      "source": [
        "Positive, Negative and Neutral Scores"
      ],
      "metadata": {
        "id": "gAHKAiHxwane"
      }
    },
    {
      "cell_type": "code",
      "source": [
        "\n",
        "\n",
        "for index in range(0, file['Text'].shape[0], 1):\n",
        "  sentimentAnalysis = sentiment.polarity_scores(file['Text'][index])\n",
        "  print(sentimentAnalysis)\n",
        "\n"
      ],
      "metadata": {
        "colab": {
          "base_uri": "https://localhost:8080/"
        },
        "id": "_o2baxscu3FF",
        "outputId": "73fbee31-9c6f-41f4-815c-1e17a194b536"
      },
      "execution_count": 31,
      "outputs": [
        {
          "output_type": "stream",
          "name": "stdout",
          "text": [
            "{'neg': 0.044, 'neu': 0.812, 'pos': 0.144, 'compound': 0.9996}\n",
            "{'neg': 0.078, 'neu': 0.776, 'pos': 0.147, 'compound': 0.9987}\n",
            "{'neg': 0.037, 'neu': 0.891, 'pos': 0.072, 'compound': 0.9881}\n",
            "{'neg': 0.037, 'neu': 0.821, 'pos': 0.142, 'compound': 0.9995}\n",
            "{'neg': 0.049, 'neu': 0.807, 'pos': 0.144, 'compound': 0.9996}\n",
            "{'neg': 0.038, 'neu': 0.802, 'pos': 0.16, 'compound': 0.9996}\n",
            "{'neg': 0.027, 'neu': 0.874, 'pos': 0.099, 'compound': 0.9936}\n"
          ]
        }
      ]
    },
    {
      "cell_type": "markdown",
      "source": [
        "Polarity"
      ],
      "metadata": {
        "id": "eJim9xeEu_Ok"
      }
    },
    {
      "cell_type": "code",
      "source": [
        "\n",
        "\n",
        "for index in range(0, file['Text'].shape[0], 1):\n",
        "  polar = TextBlob(file['Text'][index])\n",
        "  print(polar.sentiment.polarity)\n",
        "\n"
      ],
      "metadata": {
        "colab": {
          "base_uri": "https://localhost:8080/"
        },
        "id": "sIuPGDK6u4Tt",
        "outputId": "810b0358-41b4-49e1-ac1c-fee828d0eccb"
      },
      "execution_count": 32,
      "outputs": [
        {
          "output_type": "stream",
          "name": "stdout",
          "text": [
            "0.13693643937761585\n",
            "0.07469251007613077\n",
            "0.11190679112554114\n",
            "0.14205028276997975\n",
            "0.05317796664120197\n",
            "0.12108208858208855\n",
            "0.1491084283363695\n"
          ]
        }
      ]
    },
    {
      "cell_type": "markdown",
      "source": [
        "Textatistic is a Python package to calculate the Flesch Reading Ease, Flesch-Kincaid, Gunning Fog, Simple Measure of Gobbledygook (SMOG) and Dale-Chall readability indices. Textatistic also contains functions to count the number of sentences, characters, syllables, words, words with three or more syllables and words on an expanded Dale-Chall list of easy words."
      ],
      "metadata": {
        "id": "X78Y_7AYwhba"
      }
    },
    {
      "cell_type": "code",
      "source": [
        "\n",
        "\n",
        "for index in range(0, file['Text'].shape[0], 1):\n",
        "\n",
        "  sent1 =Textatistic(file['Text'][index])\n",
        "\n",
        "  print(sent1.counts, sent1.scores)"
      ],
      "metadata": {
        "colab": {
          "base_uri": "https://localhost:8080/"
        },
        "id": "mn7EhSrXvQX5",
        "outputId": "6d81a21b-d667-4b5c-839a-695fb1d4ab0f"
      },
      "execution_count": 33,
      "outputs": [
        {
          "output_type": "stream",
          "name": "stdout",
          "text": [
            "{'char_count': 10321, 'word_count': 1805, 'sent_count': 76, 'sybl_count': 3007, 'notdalechall_count': 811, 'polysyblword_count': 317} {'flesch_score': 41.79124307479228, 'fleschkincaid_score': 13.330450138504156, 'gunningfog_score': 16.524930747922436, 'smog_score': 14.796330306560154, 'dalechall_score': 11.909065096952908}\n",
            "{'char_count': 6998, 'word_count': 1415, 'sent_count': 79, 'sybl_count': 2032, 'notdalechall_count': 390, 'polysyblword_count': 149} {'flesch_score': 67.16574942970884, 'fleschkincaid_score': 8.340743391331575, 'gunningfog_score': 11.376571096300935, 'smog_score': 10.974670410320154, 'dalechall_score': 8.876919197566759}\n",
            "{'char_count': 9337, 'word_count': 1693, 'sent_count': 84, 'sybl_count': 2795, 'notdalechall_count': 579, 'polysyblword_count': 290} {'flesch_score': 46.71046244339439, 'fleschkincaid_score': 11.751160450594888, 'gunningfog_score': 14.91364723089472, 'smog_score': 13.74371610233738, 'dalechall_score': 10.036300230641576}\n",
            "{'char_count': 8117, 'word_count': 1652, 'sent_count': 94, 'sybl_count': 2419, 'notdalechall_count': 468, 'polysyblword_count': 187} {'flesch_score': 65.11834346504561, 'fleschkincaid_score': 8.542613981762917, 'gunningfog_score': 11.557632270362166, 'smog_score': 11.186627793866812, 'dalechall_score': 8.981389742929268}\n",
            "{'char_count': 9043, 'word_count': 1740, 'sent_count': 84, 'sybl_count': 2672, 'notdalechall_count': 531, 'polysyblword_count': 219} {'flesch_score': 55.89551724137931, 'fleschkincaid_score': 10.609031198686374, 'gunningfog_score': 13.320197044334975, 'smog_score': 12.353271100971622, 'dalechall_score': 9.482600985221675}\n",
            "{'char_count': 6607, 'word_count': 1284, 'sent_count': 63, 'sybl_count': 1915, 'notdalechall_count': 362, 'polysyblword_count': 155} {'flesch_score': 59.973099688473525, 'fleschkincaid_score': 9.957481085892303, 'gunningfog_score': 12.981041388518022, 'smog_score': 12.089770547825463, 'dalechall_score': 9.099093057409878}\n",
            "{'char_count': 3782, 'word_count': 732, 'sent_count': 45, 'sybl_count': 1112, 'notdalechall_count': 213, 'polysyblword_count': 91} {'flesch_score': 61.806300546448114, 'fleschkincaid_score': 8.679683060109289, 'gunningfog_score': 11.479344262295081, 'smog_score': 11.252902845137655, 'dalechall_score': 9.03795781420765}\n"
          ]
        }
      ]
    },
    {
      "cell_type": "markdown",
      "source": [
        "Average sentence length"
      ],
      "metadata": {
        "id": "LqXvaQpDvZtq"
      }
    },
    {
      "cell_type": "code",
      "source": [
        "#**\n",
        "a_file = open('asl.csv', 'w')\n",
        "a_writer = csv.writer(a_file)\n",
        "a_writer.writerow(['Id', 'ASL'])\n",
        "#**\n",
        "for index in range(0, file['Text'].shape[0], 1):\n",
        "  asl = avg_sentence_len(file['Text'][index])\n",
        "  print(asl) #printing result\n",
        "  #**\n",
        "  a_writer.writerow([df.iloc[index,0], asl])\n",
        "a_file.close()\n",
        "\n",
        "#**"
      ],
      "metadata": {
        "colab": {
          "base_uri": "https://localhost:8080/"
        },
        "id": "KdLsILdBvYPq",
        "outputId": "8a5c23ea-3cc1-4ff5-c519-3dd25ea24e7d"
      },
      "execution_count": 34,
      "outputs": [
        {
          "output_type": "stream",
          "name": "stdout",
          "text": [
            "22.94871794871795\n",
            "20.15714285714286\n",
            "19.95294117647059\n",
            "21.44578313253012\n",
            "21.29268292682927\n",
            "22.771929824561404\n",
            "16.434782608695652\n"
          ]
        }
      ]
    }
  ]
}